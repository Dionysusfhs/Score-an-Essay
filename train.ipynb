{
 "cells": [
  {
   "cell_type": "code",
   "execution_count": 1,
   "metadata": {},
   "outputs": [],
   "source": [
    "from transformers import AutoTokenizer, AutoModel, AutoConfig\n",
    "import torch\n",
    "\n",
    "import pandas as pd\n",
    "from sklearn.model_selection import KFold\n",
    "import numpy as np\n",
    "\n",
    "import matplotlib.pyplot as plt\n",
    "from tqdm import tqdm\n",
    "import wandb"
   ]
  },
  {
   "cell_type": "code",
   "execution_count": 2,
   "metadata": {},
   "outputs": [
    {
     "name": "stdout",
     "output_type": "stream",
     "text": [
      "cuda\n"
     ]
    }
   ],
   "source": [
    "class Config:\n",
    "    def __init__(self):\n",
    "        self.device = 'cuda' if torch.cuda.is_available() else 'cpu'\n",
    "\n",
    "        self.backbone = 'microsoft/deberta-v3-base'\n",
    "        self.max_length = 512\n",
    "\n",
    "        self.model_path = './cache'\n",
    "        self.checkpoint_path = './checkpoints'\n",
    "        self.dataset_path = './input/feedback-prize-english-language-learning'\n",
    "\n",
    "        self.epoch = 0\n",
    "        self.n_epochs = 3\n",
    "        self.batch_size = 16\n",
    "\n",
    "        self.n_cpus = 0\n",
    "        self.n_splits = 5\n",
    "\n",
    "        # loss function\n",
    "        self.criterion = 'SmoothL1Loss'\n",
    "\n",
    "        # optimizer\n",
    "        # self.optimizer='Adam'\n",
    "        self.lr = 5e-4\n",
    "        self.b1 = 0.9\n",
    "        self.b2 = 0.999\n",
    "        self.eps = 1e-6\n",
    "\n",
    "        # scheduler # did not use\n",
    "        self.scheduler = 'CosineAnnealingWarmRestarts'\n",
    "        self.T_0 = 5\n",
    "        self.eta_min = 1e-6\n",
    "\n",
    "        self.use_wandb = False\n",
    "\n",
    "\n",
    "config = Config()\n",
    "\n",
    "device = config.device\n",
    "print(device)"
   ]
  },
  {
   "cell_type": "code",
   "execution_count": 3,
   "metadata": {},
   "outputs": [],
   "source": [
    "if config.use_wandb:\n",
    "    run = wandb.init(project='FDB3',\n",
    "                     name=config.backbone,\n",
    "                     config=config,\n",
    "                     group=config.backbone,\n",
    "                     job_type=\"train\",\n",
    "                     )"
   ]
  },
  {
   "cell_type": "code",
   "execution_count": 4,
   "metadata": {},
   "outputs": [
    {
     "name": "stderr",
     "output_type": "stream",
     "text": [
      "Special tokens have been added in the vocabulary, make sure the associated word embeddings are fine-tuned or trained.\n",
      "d:\\ProgramData\\Anaconda3\\envs\\py38\\lib\\site-packages\\transformers\\convert_slow_tokenizer.py:470: UserWarning: The sentencepiece tokenizer that you are converting to a fast tokenizer uses the byte fallback option which is not implemented in the fast tokenizers. In practice this means that the fast version of the tokenizer can produce unknown tokens whereas the sentencepiece version would have converted these unknown tokens into a sequence of byte tokens matching the original piece of text.\n",
      "  warnings.warn(\n",
      "Special tokens have been added in the vocabulary, make sure the associated word embeddings are fine-tuned or trained.\n"
     ]
    }
   ],
   "source": [
    "# download or load model & tokenizer\n",
    "\n",
    "'''run the code below if you are running this code for the first time'''\n",
    "# tokenizer = AutoTokenizer.from_pretrained(\n",
    "#     pretrained_model_name_or_path=config.backbone, cache_dir=config.model_path)\n",
    "# model_config = AutoConfig.from_pretrained(\n",
    "#     pretrained_model_name_or_path=config.backbone,cache_dir=config.model_path,output_hidden_states=True,)\n",
    "\n",
    "# encoder = AutoModel.from_pretrained(\n",
    "#     pretrained_model_name_or_path=config.backbone,cache_dir=config.model_path)\n",
    "\n",
    "\n",
    "tail = '\\models--microsoft--deberta-v3-base\\snapshots\\8ccc9b6f36199bec6961081d44eb72fb3f7353f3'\n",
    "\n",
    "tokenizer = AutoTokenizer.from_pretrained(\n",
    "    pretrained_model_name_or_path=config.model_path+tail)\n",
    "\n",
    "model_config = AutoConfig.from_pretrained(\n",
    "    pretrained_model_name_or_path=config.model_path+tail, output_hidden_states=True,)\n",
    "\n",
    "encoder = AutoModel.from_pretrained(\n",
    "    pretrained_model_name_or_path=config.model_path+tail)"
   ]
  },
  {
   "cell_type": "code",
   "execution_count": 5,
   "metadata": {},
   "outputs": [
    {
     "name": "stdout",
     "output_type": "stream",
     "text": [
      "\n",
      "num of parameters:\n",
      "total:184.029958M\n",
      "freeze:183.831552M\n",
      "unfreeze:0.198406M\n",
      "unfreeze/total:0.107812%\n"
     ]
    }
   ],
   "source": [
    "# load model\n",
    "from Frozenbert.pool_model import Frozenbert\n",
    "\n",
    "# create model\n",
    "net = Frozenbert(model_config, encoder).to(device)\n",
    "\n",
    "# freeze encoder\n",
    "for param in net.encoder.parameters():\n",
    "    param.requires_grad = False\n",
    "\n",
    "# unfreeze last layers\n",
    "# num_unfreeze=2\n",
    "# for param in net.encoder.encoder.layer[-num_unfreeze:].parameters():\n",
    "#     param.requires_grad = True\n",
    "\n",
    "# count num of parameters\n",
    "total = sum([param.nelement() for param in net.parameters()])\n",
    "freeze = sum([param.nelement()\n",
    "              for param in net.parameters() if param.requires_grad == False])\n",
    "unfreeze = sum([param.nelement()\n",
    "                for param in net.parameters() if param.requires_grad == True])\n",
    "print('\\nnum of parameters:')\n",
    "print(\"total:%fM\" % (total/1e6))\n",
    "print(\"freeze:%fM\" % (freeze/1e6))\n",
    "print(\"unfreeze:%fM\" % (unfreeze/1e6))\n",
    "print(\"unfreeze/total:%f%%\" % (unfreeze/total*100))"
   ]
  },
  {
   "cell_type": "code",
   "execution_count": 6,
   "metadata": {},
   "outputs": [],
   "source": [
    "# data frame\n",
    "df = pd.read_csv(config.dataset_path+'/train.csv')\n",
    "test_df = pd.read_csv(config.dataset_path+'/test.csv')\n",
    "\n",
    "# Create a KFold cross-validator\n",
    "kf = KFold(n_splits=config.n_splits, shuffle=True, random_state=1357)"
   ]
  },
  {
   "cell_type": "code",
   "execution_count": 7,
   "metadata": {},
   "outputs": [],
   "source": [
    "from utils.classes import EssayDataset\n",
    "from utils.classes import Trainer\n",
    "\n",
    "def train_fold(model, train_df, val_df, test_df, config, epoch):\n",
    "    # Prepare data\n",
    "    train_ds = EssayDataset(train_df, config, tokenizer=tokenizer)\n",
    "    val_ds = EssayDataset(val_df, config, tokenizer=tokenizer)\n",
    "    # test_ds = EssayDataset(test_df, config, tokenizer=tokenizer, is_test=True)\n",
    "\n",
    "    train_loader = torch.utils.data.DataLoader(\n",
    "        train_ds, batch_size=config.batch_size, shuffle=True, num_workers=config.n_cpus, pin_memory=True)\n",
    "    val_loader = torch.utils.data.DataLoader(\n",
    "        val_ds, batch_size=config.batch_size, shuffle=True, num_workers=config.n_cpus, pin_memory=True)\n",
    "    # test_loader = torch.utils.data.DataLoader(test_ds, batch_size=1, shuffle=True, num_workers=0, pin_memory=True)\n",
    "\n",
    "    # Create a trainer and train the model\n",
    "    trainer = Trainer(model=model, loaders=(\n",
    "        train_loader, val_loader), config=config)\n",
    "\n",
    "    current_lr = trainer.optimizer.param_groups[0]['lr']\n",
    "\n",
    "    # Start training\n",
    "    trainer.model.train()\n",
    "    trainer.train_one_epoch(epoch)\n",
    "    trainer.clear()\n",
    "\n",
    "    trainer.model.eval()\n",
    "    trainer.valid_one_epoch(epoch)\n",
    "    trainer.clear()\n",
    "\n",
    "    # Test result after training\n",
    "    # preds = trainer.test(test_loader=test_loader)\n",
    "    # print(\"Test result after training:\\n\", preds)\n",
    "\n",
    "    # Calculate and return mean loss and MCRMSE\n",
    "    mean_train_loss = np.mean(trainer.train_losses)\n",
    "    mean_valid_loss = np.mean(trainer.valid_losses)\n",
    "    mean_valid_mcrmse = np.mean(trainer.valid_mcrmse)\n",
    "\n",
    "    print('current lr: {:.7f}'.format(current_lr))\n",
    "    print('train_loss: %.2f, valid_loss: %.2f, val_mcrmse: %.2f' %\n",
    "          (mean_train_loss, mean_valid_loss, mean_valid_mcrmse))\n",
    "\n",
    "    return mean_train_loss, mean_valid_loss, mean_valid_mcrmse"
   ]
  },
  {
   "cell_type": "code",
   "execution_count": 8,
   "metadata": {},
   "outputs": [],
   "source": [
    "# Lists to store results from each fold\n",
    "\n",
    "global fold_train_losses\n",
    "global fold_val_losses\n",
    "global fold_val_mcrmse\n",
    "global min_mcrmse\n",
    "global best_model\n",
    "\n",
    "fold_train_losses = []\n",
    "fold_valid_losses = []\n",
    "fold_valid_mcrmse = []\n",
    "min_mcrmse = float(\"inf\")"
   ]
  },
  {
   "cell_type": "code",
   "execution_count": 9,
   "metadata": {},
   "outputs": [
    {
     "name": "stdout",
     "output_type": "stream",
     "text": [
      "++++++++++++++++++++++++++++++ Fold 1/5 ++++++++++++++++++++++++++++++\n"
     ]
    },
    {
     "name": "stderr",
     "output_type": "stream",
     "text": [
      "100%|██████████| 196/196 [01:47<00:00,  1.83it/s]\n",
      "100%|██████████| 49/49 [00:22<00:00,  2.20it/s]\n"
     ]
    },
    {
     "name": "stdout",
     "output_type": "stream",
     "text": [
      "current lr: 0.0005000\n",
      "train_loss: 0.22, valid_loss: 0.11, val_mcrmse: 0.47\n",
      "++++++++++++++++++++++++++++++ Fold 2/5 ++++++++++++++++++++++++++++++\n"
     ]
    },
    {
     "name": "stderr",
     "output_type": "stream",
     "text": [
      "100%|██████████| 196/196 [01:43<00:00,  1.90it/s]\n",
      "100%|██████████| 49/49 [00:22<00:00,  2.20it/s]\n"
     ]
    },
    {
     "name": "stdout",
     "output_type": "stream",
     "text": [
      "current lr: 0.0005000\n",
      "train_loss: 0.12, valid_loss: 0.12, val_mcrmse: 0.48\n",
      "++++++++++++++++++++++++++++++ Fold 3/5 ++++++++++++++++++++++++++++++\n"
     ]
    },
    {
     "name": "stderr",
     "output_type": "stream",
     "text": [
      "100%|██████████| 196/196 [01:43<00:00,  1.90it/s]\n",
      "100%|██████████| 49/49 [00:22<00:00,  2.20it/s]\n"
     ]
    },
    {
     "name": "stdout",
     "output_type": "stream",
     "text": [
      "current lr: 0.0005000\n",
      "train_loss: 0.11, valid_loss: 0.13, val_mcrmse: 0.49\n",
      "++++++++++++++++++++++++++++++ Fold 4/5 ++++++++++++++++++++++++++++++\n"
     ]
    },
    {
     "name": "stderr",
     "output_type": "stream",
     "text": [
      "100%|██████████| 196/196 [01:43<00:00,  1.90it/s]\n",
      "100%|██████████| 49/49 [00:22<00:00,  2.20it/s]\n"
     ]
    },
    {
     "name": "stdout",
     "output_type": "stream",
     "text": [
      "current lr: 0.0005000\n",
      "train_loss: 0.11, valid_loss: 0.15, val_mcrmse: 0.54\n",
      "++++++++++++++++++++++++++++++ Fold 5/5 ++++++++++++++++++++++++++++++\n"
     ]
    },
    {
     "name": "stderr",
     "output_type": "stream",
     "text": [
      "100%|██████████| 196/196 [01:43<00:00,  1.90it/s]\n",
      "100%|██████████| 49/49 [00:22<00:00,  2.20it/s]\n"
     ]
    },
    {
     "name": "stdout",
     "output_type": "stream",
     "text": [
      "current lr: 0.0005000\n",
      "train_loss: 0.11, valid_loss: 0.11, val_mcrmse: 0.47\n",
      "------------------------------ EPOCH 1 / 3 ------------------------------\n",
      "mean train loss: 0.1351610795347666\n",
      "mean valid loss: 0.12481764123147847\n",
      "mean valid mcrmse: 0.49328068178527207\n",
      "\n",
      "\n",
      "++++++++++++++++++++++++++++++ Fold 1/5 ++++++++++++++++++++++++++++++\n"
     ]
    },
    {
     "name": "stderr",
     "output_type": "stream",
     "text": [
      "100%|██████████| 196/196 [01:43<00:00,  1.89it/s]\n",
      "100%|██████████| 49/49 [00:22<00:00,  2.19it/s]\n"
     ]
    },
    {
     "name": "stdout",
     "output_type": "stream",
     "text": [
      "current lr: 0.0005000\n",
      "train_loss: 0.11, valid_loss: 0.11, val_mcrmse: 0.47\n",
      "++++++++++++++++++++++++++++++ Fold 2/5 ++++++++++++++++++++++++++++++\n"
     ]
    },
    {
     "name": "stderr",
     "output_type": "stream",
     "text": [
      "100%|██████████| 196/196 [01:43<00:00,  1.90it/s]\n",
      "100%|██████████| 49/49 [00:22<00:00,  2.20it/s]\n"
     ]
    },
    {
     "name": "stdout",
     "output_type": "stream",
     "text": [
      "current lr: 0.0005000\n",
      "train_loss: 0.11, valid_loss: 0.11, val_mcrmse: 0.46\n",
      "++++++++++++++++++++++++++++++ Fold 3/5 ++++++++++++++++++++++++++++++\n"
     ]
    },
    {
     "name": "stderr",
     "output_type": "stream",
     "text": [
      "100%|██████████| 196/196 [01:43<00:00,  1.90it/s]\n",
      "100%|██████████| 49/49 [00:22<00:00,  2.20it/s]\n"
     ]
    },
    {
     "name": "stdout",
     "output_type": "stream",
     "text": [
      "current lr: 0.0005000\n",
      "train_loss: 0.10, valid_loss: 0.11, val_mcrmse: 0.47\n",
      "++++++++++++++++++++++++++++++ Fold 4/5 ++++++++++++++++++++++++++++++\n"
     ]
    },
    {
     "name": "stderr",
     "output_type": "stream",
     "text": [
      "100%|██████████| 196/196 [01:43<00:00,  1.90it/s]\n",
      "100%|██████████| 49/49 [00:22<00:00,  2.20it/s]\n"
     ]
    },
    {
     "name": "stdout",
     "output_type": "stream",
     "text": [
      "current lr: 0.0005000\n",
      "train_loss: 0.11, valid_loss: 0.12, val_mcrmse: 0.47\n",
      "++++++++++++++++++++++++++++++ Fold 5/5 ++++++++++++++++++++++++++++++\n"
     ]
    },
    {
     "name": "stderr",
     "output_type": "stream",
     "text": [
      "100%|██████████| 196/196 [01:43<00:00,  1.90it/s]\n",
      "100%|██████████| 49/49 [00:22<00:00,  2.20it/s]\n"
     ]
    },
    {
     "name": "stdout",
     "output_type": "stream",
     "text": [
      "current lr: 0.0005000\n",
      "train_loss: 0.11, valid_loss: 0.16, val_mcrmse: 0.55\n",
      "------------------------------ EPOCH 2 / 3 ------------------------------\n",
      "mean train loss: 0.12074656301767242\n",
      "mean valid loss: 0.12291895955496905\n",
      "mean valid mcrmse: 0.4889821773889113\n",
      "\n",
      "\n",
      "++++++++++++++++++++++++++++++ Fold 1/5 ++++++++++++++++++++++++++++++\n"
     ]
    },
    {
     "name": "stderr",
     "output_type": "stream",
     "text": [
      "100%|██████████| 196/196 [01:43<00:00,  1.90it/s]\n",
      "100%|██████████| 49/49 [00:22<00:00,  2.19it/s]\n"
     ]
    },
    {
     "name": "stdout",
     "output_type": "stream",
     "text": [
      "current lr: 0.0005000\n",
      "train_loss: 0.10, valid_loss: 0.11, val_mcrmse: 0.45\n",
      "++++++++++++++++++++++++++++++ Fold 2/5 ++++++++++++++++++++++++++++++\n"
     ]
    },
    {
     "name": "stderr",
     "output_type": "stream",
     "text": [
      "100%|██████████| 196/196 [01:43<00:00,  1.90it/s]\n",
      "100%|██████████| 49/49 [00:22<00:00,  2.19it/s]\n"
     ]
    },
    {
     "name": "stdout",
     "output_type": "stream",
     "text": [
      "current lr: 0.0005000\n",
      "train_loss: 0.10, valid_loss: 0.13, val_mcrmse: 0.50\n",
      "++++++++++++++++++++++++++++++ Fold 3/5 ++++++++++++++++++++++++++++++\n"
     ]
    },
    {
     "name": "stderr",
     "output_type": "stream",
     "text": [
      "100%|██████████| 196/196 [01:43<00:00,  1.90it/s]\n",
      "100%|██████████| 49/49 [00:22<00:00,  2.19it/s]\n"
     ]
    },
    {
     "name": "stdout",
     "output_type": "stream",
     "text": [
      "current lr: 0.0005000\n",
      "train_loss: 0.10, valid_loss: 0.12, val_mcrmse: 0.48\n",
      "++++++++++++++++++++++++++++++ Fold 4/5 ++++++++++++++++++++++++++++++\n"
     ]
    },
    {
     "name": "stderr",
     "output_type": "stream",
     "text": [
      "100%|██████████| 196/196 [01:43<00:00,  1.90it/s]\n",
      "100%|██████████| 49/49 [00:22<00:00,  2.19it/s]\n"
     ]
    },
    {
     "name": "stdout",
     "output_type": "stream",
     "text": [
      "current lr: 0.0005000\n",
      "train_loss: 0.10, valid_loss: 0.10, val_mcrmse: 0.44\n",
      "++++++++++++++++++++++++++++++ Fold 5/5 ++++++++++++++++++++++++++++++\n"
     ]
    },
    {
     "name": "stderr",
     "output_type": "stream",
     "text": [
      "100%|██████████| 196/196 [01:43<00:00,  1.90it/s]\n",
      "100%|██████████| 49/49 [00:23<00:00,  2.07it/s]\n"
     ]
    },
    {
     "name": "stdout",
     "output_type": "stream",
     "text": [
      "current lr: 0.0005000\n",
      "train_loss: 0.10, valid_loss: 0.12, val_mcrmse: 0.48\n",
      "------------------------------ EPOCH 3 / 3 ------------------------------\n",
      "mean train loss: 0.11459966647711133\n",
      "mean valid loss: 0.11991392456147136\n",
      "mean valid mcrmse: 0.4828651560001632\n",
      "\n",
      "\n",
      "min mcrmse:  0.4422356382924683\n"
     ]
    }
   ],
   "source": [
    "for epoch in range(config.epoch+1, config.epoch+config.n_epochs + 1):\n",
    "\n",
    "    # Iterate over the cross-validation splits\n",
    "    for fold, (train_index, val_index) in enumerate(kf.split(df)):\n",
    "        print(f\"{'+'*30} Fold {fold + 1}/{config.n_splits} {'+'*30}\")\n",
    "\n",
    "        train_fold_df = df.iloc[train_index]\n",
    "        val_fold_df = df.iloc[val_index]\n",
    "\n",
    "        # Train the model on the fold and store validation results\n",
    "        mean_train_loss, mean_valid_loss, mean_valid_mcrmse = train_fold(\n",
    "            net, train_fold_df, val_fold_df, test_df, config, epoch)\n",
    "\n",
    "        # Store the validation loss and MCRMSE for this fold\n",
    "        fold_train_losses.append(mean_train_loss)\n",
    "        fold_valid_losses.append(mean_valid_loss)\n",
    "        fold_valid_mcrmse.append(mean_valid_mcrmse)\n",
    "\n",
    "        if mean_valid_mcrmse < min_mcrmse:\n",
    "            min_mcrmse = mean_valid_mcrmse\n",
    "            best_model = net\n",
    "\n",
    "    print(f\"{'-' * 30} EPOCH {epoch} / {config.n_epochs+config.epoch} {'-' * 30}\")\n",
    "    print(f\"mean train loss: {np.mean(fold_train_losses)}\")\n",
    "    print(f\"mean valid loss: {np.mean(fold_valid_losses)}\")\n",
    "    print(f\"mean valid mcrmse: {np.mean(fold_valid_mcrmse)}\\n\\n\")\n",
    "\n",
    "    # save model\n",
    "    save_name = '/FrozenBert-epochs%d-val_mcrmse%.4f.pth' % (epoch, min_mcrmse)\n",
    "    torch.save(best_model, config.checkpoint_path+save_name)\n",
    "\n",
    "    # wandb\n",
    "    if config.use_wandb:\n",
    "        wandb.log({\n",
    "            \"train_loss\": fold_train_losses[-1],\n",
    "            \"valid_loss\": fold_valid_losses[-1],\n",
    "            \"valid_mcrmse\": fold_valid_mcrmse[-1], })\n",
    "\n",
    "print('min mcrmse: ', min_mcrmse)"
   ]
  },
  {
   "cell_type": "code",
   "execution_count": 10,
   "metadata": {},
   "outputs": [
    {
     "name": "stdout",
     "output_type": "stream",
     "text": [
      "Final Test Predictions:\n",
      "\n",
      "essay1---cohesion: 3.04, syntax: 2.94, vocabulary: 3.27, phraseology: 3.21, grammar: 2.78, conventions: 2.68\n",
      "essay2---cohesion: 2.85, syntax: 2.67, vocabulary: 2.96, phraseology: 2.63, grammar: 2.26, conventions: 2.85\n",
      "essay3---cohesion: 3.69, syntax: 3.57, vocabulary: 3.70, phraseology: 3.76, grammar: 3.45, conventions: 3.38\n"
     ]
    }
   ],
   "source": [
    "# Test on best model\n",
    "test_ds = EssayDataset(test_df, config, tokenizer=tokenizer, is_test=True)\n",
    "test_loader = torch.utils.data.DataLoader(\n",
    "    test_ds, batch_size=1, shuffle=True, num_workers=0, pin_memory=True)\n",
    "\n",
    "best_model.eval()\n",
    "preds = []\n",
    "\n",
    "for inputs in test_loader:\n",
    "    inputs = {k: inputs[k].to(device)for k in inputs.keys()}\n",
    "    outputs = best_model(inputs)\n",
    "    preds.extend(outputs.cpu().detach())\n",
    "\n",
    "print(\"Final Test Predictions:\\n\")\n",
    "for i in range(len(test_loader)):\n",
    "    print('essay%d---cohesion: %.2f, syntax: %.2f, vocabulary: %.2f, phraseology: %.2f, grammar: %.2f, conventions: %.2f'\n",
    "          % (i+1, preds[i][0], preds[i][1], preds[i][2], preds[i][3], preds[i][4], preds[i][5]))"
   ]
  },
  {
   "cell_type": "code",
   "execution_count": 11,
   "metadata": {},
   "outputs": [],
   "source": [
    "if config.use_wandb:\n",
    "    wandb.finish()"
   ]
  },
  {
   "cell_type": "code",
   "execution_count": 12,
   "metadata": {},
   "outputs": [
    {
     "data": {
      "image/png": "[encoded data removed]",
      "text/plain": [
       "<Figure size 800x400 with 2 Axes>"
      ]
     },
     "metadata": {},
     "output_type": "display_data"
    }
   ],
   "source": [
    "# plot loss\n",
    "f, ax = plt.subplots(1, 2, figsize=(8, 4))\n",
    "\n",
    "# x_axis\n",
    "xx = range(1, len(fold_train_losses)+1)\n",
    "\n",
    "ax[0].plot(xx, fold_train_losses, color='red')\n",
    "ax[0].plot(xx, fold_valid_losses, color='orange')\n",
    "ax[0].set_title('Train & Val Loss')\n",
    "ax[0].legend(['Train', 'Validation'], loc='upper right')\n",
    "\n",
    "ax[1].plot(xx, fold_valid_mcrmse,  color='green')\n",
    "ax[1].set_title('Val MCRMSE Loss')\n",
    "ax[1].legend(['Validation'], loc='best')\n",
    "\n",
    "plt.show()"
   ]
  }
 ],
 "metadata": {
  "kernelspec": {
   "display_name": "base",
   "language": "python",
   "name": "python3"
  },
  "language_info": {
   "codemirror_mode": {
    "name": "ipython",
    "version": 3
   },
   "file_extension": ".py",
   "mimetype": "text/x-python",
   "name": "python",
   "nbconvert_exporter": "python",
   "pygments_lexer": "ipython3",
   "version": "3.8.18"
  },
  "orig_nbformat": 4
 },
 "nbformat": 4,
 "nbformat_minor": 2
}
